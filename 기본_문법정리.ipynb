{
 "cells": [
  {
   "cell_type": "markdown",
   "metadata": {},
   "source": [
    "### 자료형(정수형, 실수형) ###"
   ]
  },
  {
   "cell_type": "code",
   "execution_count": 1,
   "metadata": {},
   "outputs": [],
   "source": [
    "#소수부가 0일 때 0을 생략\n",
    "a = 5. # 5.0"
   ]
  },
  {
   "cell_type": "code",
   "execution_count": null,
   "metadata": {},
   "outputs": [],
   "source": [
    "# 10억의 지수 표현 방식 (최단 경로문제에서 자주 사용)\n",
    "a = 1e9 # 100000000.0"
   ]
  },
  {
   "cell_type": "code",
   "execution_count": null,
   "metadata": {},
   "outputs": [],
   "source": [
    "# 컴퓨터는 2진수 체계이기 때문에 실수 덧셈을 정확히 하지 못한다. 보통 5째 자리에서 반올림 하면된다.\n",
    "a = 0.3 + 0.6\n",
    "print(round(a,4))"
   ]
  },
  {
   "cell_type": "markdown",
   "metadata": {},
   "source": [
    "### 수 자료형의 연산 ###"
   ]
  },
  {
   "cell_type": "code",
   "execution_count": null,
   "metadata": {},
   "outputs": [],
   "source": [
    "a = 7\n",
    "b = 3\n",
    "\n",
    "# 나누기\n",
    "a / b\n",
    "\n",
    "# 나머지\n",
    "a % b\n",
    "\n",
    "# 몫\n",
    "a // b\n",
    "\n",
    "# 거듭 연산자\n",
    "a ** b   # a의 b승"
   ]
  },
  {
   "cell_type": "markdown",
   "metadata": {},
   "source": [
    "### 리스트 자료형 & 리스트 초기화 ###"
   ]
  },
  {
   "cell_type": "code",
   "execution_count": null,
   "metadata": {},
   "outputs": [],
   "source": [
    "a = [1,2,3,4,5,6,7,8,9]\n",
    "print(a)\n",
    "print(a[4])"
   ]
  },
  {
   "cell_type": "code",
   "execution_count": null,
   "metadata": {},
   "outputs": [],
   "source": [
    "# 빈 리스트 선언 방법\n",
    "a = list()\n",
    "a = []"
   ]
  },
  {
   "cell_type": "code",
   "execution_count": null,
   "metadata": {},
   "outputs": [],
   "source": [
    "# 크기가 N이고 모든 값이 0인 1차원 리스트 초기화\n",
    "n = 10\n",
    "a = [0] * n\n",
    "# [0,0,0,0,0,0,0,0,0,0]"
   ]
  },
  {
   "attachments": {},
   "cell_type": "markdown",
   "metadata": {},
   "source": [
    "### 리스트 인덱싱과 슬라이싱 ###\n",
    "인덱싱 : 인덱스 값을 입력하여 리스트의 특정한 원소의 접근하는 것을 인덱싱이라 한다.<br>\n",
    "슬라이싱 : 리스트의 연속적인 위치를 갖는 원소들을 가져와야 할 때 사용"
   ]
  },
  {
   "cell_type": "code",
   "execution_count": null,
   "metadata": {},
   "outputs": [],
   "source": [
    "a = [1,2,3,4,5,6,7,8,9]\n",
    "\n",
    "a[-1] # 9\n",
    "a[-3] # 7\n",
    "a[1:4] # [2,3,4]"
   ]
  },
  {
   "attachments": {},
   "cell_type": "markdown",
   "metadata": {},
   "source": [
    "### 리스트 컴프리헨션 ###\n",
    "리스트 초기화하는 방법 중 하나이다.<br>\n",
    "대괄호 안에 조건문과 반복문을 넣는 방식으로 리스트를 초기화할 수 있다.<br>\n",
    "2차원 리스트를 초기화할 때 매우 효과적으로 사용된다."
   ]
  },
  {
   "cell_type": "code",
   "execution_count": 2,
   "metadata": {},
   "outputs": [],
   "source": [
    "# 리스트 컴프리헨션 vs 리스트 일반 선언\n",
    "\n",
    "# 0부터 19까지의 수 중에서 홀수만 포함하는 리스트 (리스트 컴프리헨션)\n",
    "array = [i for i in range(20) if i % 2 == 1]\n",
    "\n",
    "# 0부터 19까지의 수 중에서 홀수만 포함하는 리스트 (리스트 일반 선언)\n",
    "array = []\n",
    "for i in range(20) : \n",
    "        if i % 2 == 1:\n",
    "                array.append(i)\n",
    "\n",
    "# 1부터 9까지의 수의 제곱 값을 포함하는 리스트 (리스트 컴프리헨션)\n",
    "array = [i*i for i in range(1,10)]\n",
    "# N * M 크기의 2차원 리스트 초기화\n",
    "n, m = 3, 4\n",
    "array = [[0] * m for _ in range(n) ] # [[0,0,0,0],[0,0,0,0], [0,0,0,0]]"
   ]
  },
  {
   "attachments": {},
   "cell_type": "markdown",
   "metadata": {},
   "source": [
    "### 언더바(_)의 역할 ###\n",
    "특정 크기의 2차원 리스트를 초기화 할 때는 반드시 리스트 컴프리헨션을 사용<br>\n",
    "<br>\n",
    "N * M 크기의 2차원 리스트 초기화 (잘못된 방법)<br>\n",
    "n, m = 3, 4<br>\n",
    "array = [[0] * m] * n           # [[0,0,0,0],[0,0,0,0], [0,0,0,0]]<br>\n",
    "<br>\n",
    "array[1][1] = 5                 # [[0,5,0,0],[0,5,0,0], [0,5,0,0]]<br>\n",
    "<br>\n",
    "내부적으로 3개의 리스트가 모두 동일한 객체에 대한 3개의 레퍼런스로 인식되기 때문<br>\n",
    "deep copy가 아니기 때문"
   ]
  },
  {
   "cell_type": "code",
   "execution_count": null,
   "metadata": {},
   "outputs": [],
   "source": []
  },
  {
   "attachments": {},
   "cell_type": "markdown",
   "metadata": {},
   "source": [
    "### 리스트 관련 메소드 ###\n",
    "append()    Big O : O(1)<br>\n",
    "sort()<br>\n",
    "reverse()<br>\n",
    "insert()    Big O : O(N)<br>\n",
    "count()<br>\n",
    "remove()    Big O : O(N)"
   ]
  },
  {
   "cell_type": "code",
   "execution_count": null,
   "metadata": {},
   "outputs": [],
   "source": [
    "a = [1,4,3]\n",
    "\n",
    "# 리스트에 원소 삽입\n",
    "a.append(2)\n",
    "\n",
    "# 오름차순 정렬\n",
    "a.sort()\n",
    "\n",
    "# 내림차순 정렬\n",
    "a.sort(reverse = True)\n",
    "\n",
    "# 리스트 원소 뒤집기\n",
    "a.reverse()\n",
    "\n",
    "# 특정 인덱스에 데이터 추가\n",
    "a.insert(2,3) # 인덱스2에 3추가\n",
    "\n",
    "# 특정 값인 데이터 개수 세기\n",
    "a.count(3)\n",
    "\n",
    "# 특정 값 데이터 삭제 (인덱스가 낮은 것 하나)\n",
    "a.remove(1) \n",
    "\n",
    "# 시간복잡도를 줄이기 위한 remove 대체 방법\n",
    "a = [1,2,3,4,5,5,5]\n",
    "remove_set = {3,5}\n",
    "\n",
    "# remove_set에 포함되지 않은 값만을 저장\n",
    "result = [i for i in a if i not in remove_set] # [1,2,4]"
   ]
  },
  {
   "cell_type": "markdown",
   "metadata": {},
   "source": [
    "### 문자열 자료형 & 초기화 ###"
   ]
  },
  {
   "cell_type": "code",
   "execution_count": null,
   "metadata": {},
   "outputs": [],
   "source": [
    "data = 'Hellow World'\n",
    "\n",
    "data =  \"Don't you know \\\"Python\\\"?\"\n",
    "print(data) # Don't you know \"Python\"?\n",
    "문자열 연산\n",
    "a = \"Hello\"\n",
    "b = \"World\"\n",
    "\n",
    "a + \" \" + b # Hello World\n",
    "\n",
    "a * 3 # HelloHelloHello\n",
    "\n",
    "# 파이썬 문자열은 내부적으로 리스트와 같이 처리 (인덱싱,슬라이싱) 사용 가능\n",
    "\n",
    "a = \"ABCDEF\"\n",
    "\n",
    "a[2:4] #CD"
   ]
  },
  {
   "attachments": {},
   "cell_type": "markdown",
   "metadata": {},
   "source": [
    "### 튜플 자료형 ###\n",
    "튜플은 한 번 선언된 값을 변경할 수 없다.<br>\n",
    "리스트는 대괄호[] 를 이용하지만 , 튜플은 소괄호 ()를 이용한다<br>\n",
    "그래프 알고리즘을 구현할 때 자주사용<br>\n",
    "다익스트라 최단 경로 알고리즘 (우선순위큐 사용)<br>\n",
    "(비용,노드번호) 형태로 튜플을 묶어서 관리한다."
   ]
  },
  {
   "cell_type": "code",
   "execution_count": null,
   "metadata": {},
   "outputs": [],
   "source": [
    "a = (1, 2, 3, 4)\n",
    "\n",
    "a[2] = 7 # TypeError"
   ]
  },
  {
   "attachments": {},
   "cell_type": "markdown",
   "metadata": {},
   "source": [
    "### 사전 자료형 ###\n",
    "사전 자료형 소개<br>\n",
    "key와 value의 쌍을 데이터로 가지는 자료형<br>\n",
    "튜플 자료형이 사전자료형의 키로 사용되는 경우 (Q 22 블록이동하기)<br>\n",
    "사전 자료형에 특정한 원소가 있는 지 검사할 때는 '원소 in 사전'의 형태를 사용할 수 있다.<br>\n",
    "리스트나 튜플에 대해서도 사용할 수 있는 문법"
   ]
  },
  {
   "cell_type": "code",
   "execution_count": null,
   "metadata": {},
   "outputs": [],
   "source": [
    "data = dict()\n",
    "data['사과'] = 'Apple'\n",
    "data['바나나'] = 'Banana'\n",
    "data['코코넛'] = 'Coconut'\n",
    "\n",
    "# {'사과': 'Apple', '바나나': 'Banana', '코코넛': 'Coconut'}\n",
    "\n",
    "if '사과' in data:\n",
    "        print(\"'사과'를 키로 가지는 데이터가 존재합니다.\")"
   ]
  },
  {
   "attachments": {},
   "cell_type": "markdown",
   "metadata": {},
   "source": [
    "### 사전 자료형 관련 함수 ###\n",
    "키 데이터만 뽑아서 리스트로 이용할 때는 keys()함수<br>\n",
    "값 데이터만을 뽑아서 리스트로 이용할 때는 values() 함수를 이용한다."
   ]
  },
  {
   "cell_type": "code",
   "execution_count": null,
   "metadata": {},
   "outputs": [],
   "source": [
    "data = dict()\n",
    "data['사과'] = 'Apple'\n",
    "data['바나나'] = 'Banana'\n",
    "data['코코넛'] = 'Coconut'\n",
    "\n",
    "# 키 데이터만 담은 리스트\n",
    "key_list = data.keys()\n",
    "value_list = data.values()\n",
    "\n",
    "for key in key_list:\n",
    "        print(data[key]) # Apple Banana Coconut"
   ]
  },
  {
   "attachments": {},
   "cell_type": "markdown",
   "metadata": {},
   "source": [
    "### 집합 자료형(Set) ###\n",
    "집합 자료형 소개<br>\n",
    "중복을 허용하지 않는다<br>\n",
    "순서가 없다<br>\n",
    "특정한 데이터가 이미 등장한 적이 있는지 여부를 체크할 때 효과적이다."
   ]
  },
  {
   "cell_type": "code",
   "execution_count": null,
   "metadata": {},
   "outputs": [],
   "source": [
    "# 집합 자료형 초기화 방법 \n",
    "data = set([1,1,2,3,4,4,5])\n",
    "\n",
    "data = {1,2,3,4,5}"
   ]
  },
  {
   "cell_type": "markdown",
   "metadata": {},
   "source": [
    "### 집합 자료형의 연산 ###\n",
    "합집합, 교집합, 차집합 연산이 있다."
   ]
  },
  {
   "cell_type": "code",
   "execution_count": null,
   "metadata": {},
   "outputs": [],
   "source": [
    "# 집합 자료형 초기화 방법 \n",
    "a = set([1,2,3,4,5])\n",
    "b = {3,4,5,6,7}\n",
    "\n",
    "a | b # 합집합 {1,2,3,4,5,6,7}\n",
    "a & b # 교집합 {3,4,5}\n",
    "a - b # 차집합 {1,2}"
   ]
  },
  {
   "cell_type": "markdown",
   "metadata": {},
   "source": [
    "### 집합 자료형 관련 함수 ###"
   ]
  },
  {
   "cell_type": "code",
   "execution_count": null,
   "metadata": {},
   "outputs": [],
   "source": [
    "data = set([1,2,3])\n",
    "print(data)\n",
    "\n",
    "# 새로운 원소 추가\n",
    "data.add(4)\n",
    "\n",
    "# 새로운 원소 여러 개 추가\n",
    "data.update([5,6])\n",
    "\n",
    "# 특정한 값을 갖는 원소 삭제\n",
    "data.remove(3)\n",
    "\n",
    "print(data)"
   ]
  },
  {
   "attachments": {},
   "cell_type": "markdown",
   "metadata": {},
   "source": [
    "### 조건문 ###\n",
    "조건문 작성은 if ~ elif ~ else문을 이용한다.<br>\n",
    "비교 연산자<br>\n",
    "x == y<br>\n",
    "x != y<br>\n",
    "x > y<br>\n",
    "x < y<br>\n",
    "x >= y<br>\n",
    "x <= y<br>\n",
    "\n",
    "### 논리 연산자 ###\n",
    "x and y<br>\n",
    "x or y<br>\n",
    "not x # x가 거짓일 때 참이다.<br>\n",
    "\n",
    "### 파이썬의 기타 연산자 ###\n",
    "파이썬에서는 추가적으로 'in 연산자'와 'not in 연산자'를 제공한다.<br>\n",
    "자료형 (리스트, 튜플, 문자열, 사전)에 사용된다.<br>\n",
    "pass문 (조건문의 값이 참이라고 해도 아무것도 처리하고 싶지 않을 때)<br>\n",
    "조건부 표현식을 이용하면 if ~ else문을 한줄에 작성해 사용할 수 있다.<br>\n",
    "리스트에 있는 원소의 값을 변경해서 또 다른 리스트를 만들고자 할 때 매우 간결하게 사용가능<br>\n",
    "X in 리스트     # 리스트 안에 X가 들어가 있을 때 참(True)이다.<br>\n",
    "X not in 문자열 # 문자열 안에 X가 들어가 있지 않을 때 참(True)이다."
   ]
  },
  {
   "cell_type": "code",
   "execution_count": null,
   "metadata": {},
   "outputs": [],
   "source": [
    "score = 85\n",
    "if score >= 80:\n",
    "        pass\n",
    "else:\n",
    "    print('성적이 80점 미만입니다.')\n",
    "\n",
    "# 1줄일 경우 줄이기\n",
    "if score >= 80: result = \"Success\"\n",
    "else: result = \"Fail\"\n",
    "\n",
    "## 조건부 표현식\n",
    "result = \"Success\" if score >= 80 else \"Fail\"\n",
    "\n",
    "# 3항 연산자\n",
    "result = score >= 80 and \"Success\" or \"Fail\"\n",
    "\n",
    "# 리스트에 있는 원소의 값을 변경해서 또 다른 리스트를 만들고자 할 때 매우 간결하게 사용가능\n",
    "\n",
    "a = [1,2,3,4,5,5,5]\n",
    "remove_set = {3,5}\n",
    "\n",
    "result = []\n",
    "for i in a:\n",
    "        if i not in remove_set:\n",
    "                result.append(i)\n",
    "\n",
    "result = [i for i in a if i not in remove_set]"
   ]
  },
  {
   "cell_type": "markdown",
   "metadata": {},
   "source": [
    "### 반복문 ### "
   ]
  },
  {
   "cell_type": "code",
   "execution_count": null,
   "metadata": {},
   "outputs": [],
   "source": [
    "# while문\n",
    "i = 1\n",
    "result = 0\n",
    "while i <= 9:\n",
    "        result += i\n",
    "        i += 1\n",
    "print(result)\n",
    "\n",
    "# for문\n",
    "# continue : 이번 사이클만 스킵\n",
    "# break : 반복문을 아예 탈출\n",
    "\n",
    "for i in range(1,10):\n",
    "        result += 1\n",
    "print(result)\n",
    "scores = [90, 85, 77, 65, 97]\n",
    "cheating_list = {2,4}\n",
    "\n",
    "for i in range(5):\n",
    "        if i + 1 in cheating_list:\n",
    "                continue\n",
    "        if scores[i] >= 80:\n",
    "                print(i + 1, '번 학생은 합격입니다')\n",
    "\n"
   ]
  },
  {
   "attachments": {},
   "cell_type": "markdown",
   "metadata": {},
   "source": [
    "### 이중 for문 ###\n",
    "활용되는 알고리즘\n",
    "1) 플로이드 워셜 알고리즘\n",
    "2) 다이나믹 프로그래밍"
   ]
  },
  {
   "cell_type": "code",
   "execution_count": null,
   "metadata": {},
   "outputs": [],
   "source": [
    "# 구구단\n",
    "for i in range(2,10):\n",
    "        for j in range(1,10):\n",
    "                print(i, \"X\", j, \"=\", i*j)\n",
    "        print()"
   ]
  },
  {
   "attachments": {},
   "cell_type": "markdown",
   "metadata": {},
   "source": [
    "### 함수 ###\n",
    "동일한 알고리즘을 반복적으로 수행해야 할 때 사용\n",
    "매개변수나 return 문은 존재하지 않을 수도 있다."
   ]
  },
  {
   "cell_type": "code",
   "execution_count": null,
   "metadata": {},
   "outputs": [],
   "source": [
    "def add(a,b):\n",
    "        return a + b\n",
    "\n",
    "print(add(3,7))\n",
    "\n",
    "def add(a, b):\n",
    "        print('함수의 결과:', a+b)\n",
    "\n",
    "# 매개변수를 직접 지정해 줄 수도 있다.\n",
    "add(b = 3, a = 7)\n",
    "\n",
    "# global : 함수 안에서 함수 밖의 변수 데이터를 변경해야 하는 경우\n",
    "a = 0\n",
    "\n",
    "def func():\n",
    "        global a\n",
    "        a += 1\n",
    "\n",
    "for i in range(10):\n",
    "        func()\n",
    "\n",
    "print(a)"
   ]
  },
  {
   "attachments": {},
   "cell_type": "markdown",
   "metadata": {},
   "source": [
    "### 람다 표현식(Lambda Express) ###\n",
    "특정한 기능을 수행하는 함수를 한 줄에 작성할 수 있다<br>\n",
    "람다식은 파이썬의 정렬 라이브러리를 사용할 때, 정렬 기준(Key)을 설정할 때에도 자주 사용한다."
   ]
  },
  {
   "cell_type": "code",
   "execution_count": null,
   "metadata": {},
   "outputs": [],
   "source": [
    "def add(a, b):\n",
    "        return a + b\n",
    "\n",
    "print(add(3,7))\n",
    "\n",
    "# 람다 표현식으로 구현한 add() 메서드\n",
    "print( (lambda a, b: a + b)(3,7) )"
   ]
  },
  {
   "attachments": {},
   "cell_type": "markdown",
   "metadata": {},
   "source": [
    "### 입력 ###\n",
    "map() : 해당 리스트의 모든 원소에 int() 함수를 적용한다.<br>\n",
    "sys.stdin.readline() : 입력을 최대한 빠르게 받아야하는 경우<br>\n",
    "readline()으로 입력하면 입력후 엔터가 줄 바꿈 기호로 인식, 공백 문자를 제거하려면 rstrip()함수를 사용해야한다.\n"
   ]
  },
  {
   "cell_type": "code",
   "execution_count": null,
   "metadata": {},
   "outputs": [],
   "source": [
    "# 데이터의 개수 입력\n",
    "n = int(input())\n",
    "\n",
    "# 각 데이터를 공백으로 구분하여 입력\n",
    "data = list(map(int, input().split()))\n",
    "\n",
    "data.sort(reverse = True)\n",
    "print(data)\n",
    "\n",
    "# 공백을 기준으로 구분하여 적은수의 데이터 입력\n",
    "\n",
    "n, m, k = map(int, input().split()\n",
    "# 입력을 최대한 빠르게 받아야하는 경우\n",
    "\n",
    "import sys\n",
    "\n",
    "# 문자열 입력받기\n",
    "sys.stdin.readline().rstrip()"
   ]
  },
  {
   "attachments": {},
   "cell_type": "markdown",
   "metadata": {},
   "source": [
    "### 출력 ###\n",
    "print() : 기본적으로 출력 이후에 줄 바꿈을 수행한다.<br>\n",
    "f-string 구조 : 앞에 f를 적고, 뒤에 출력하고 싶은 변수명을 적으면 출력된다"
   ]
  },
  {
   "cell_type": "code",
   "execution_count": null,
   "metadata": {},
   "outputs": [],
   "source": [
    "# 출력할 변수들\n",
    "a = 1\n",
    "b = 2\n",
    "\n",
    "print(a,b)\n",
    "\n",
    "# 출력 시 오류가 발생하는 소스코드 예시 (자바와 다름 주의)\n",
    "# 출력할 변수 : answer\n",
    "answer = 7\n",
    "\n",
    "print(\"정답은 \" + answer + \"입니다.\") # TypeError: can only concatenate str (not \"int\") to str\n",
    "\n",
    "# 올바른 예\n",
    "print(\"정답은 \" + str(answer) + \"입니다\")\n",
    "print(\"정답은\" , str(answer), \"입니다\")\n",
    "\n",
    "# Python 3.6 이상\n",
    "\n",
    "answer = 7\n",
    "print(f\"정답은 {answer}입니다.\")\n"
   ]
  },
  {
   "attachments": {},
   "cell_type": "markdown",
   "metadata": {},
   "source": [
    "### 내장 함수 ###\n",
    "print(), input()과 같은 기본 입출력 기능부터 sorted()와 같은 정렬 기능을 포함하고 있는 내장 라이브러리"
   ]
  },
  {
   "cell_type": "code",
   "execution_count": null,
   "metadata": {},
   "outputs": [],
   "source": [
    "result = [1,2,3,4,5]\n",
    "\n",
    "sum(result) #iterable 객체가 들어왔을 때 (반복 가능한 객체) 리스트, 사전자료형, 튜플자료형 등\n",
    "\n",
    "min(7,3,5,2)\n",
    "\n",
    "max(7,3,5,2)\n",
    "\n",
    "result = eval( \"(3+5) * 7\" )\n",
    "\n",
    "result = sorted([9,1,8,5,4]) # 오름차순 정렬\n",
    "result = sorted([9,1,5,1,4], reverse=True) # 기존 객체는 변경되지 않으며 return 값이 존재한다.\n",
    "\n",
    "result.sort() # void 문이다 result가 변경된다.\n",
    "\n",
    "data = [('홍길동', 35), ('이순신', 17), ('아무개', 88)]\n",
    "result = sorted(data, key = lambda x : x[1], reverse = True)\n",
    "print(result)\n",
    "\n",
    "# 위와 같은 값을 가진다.\n",
    "data.sort(key = lambda x: x[1], reverse = True)\n",
    "print(data)\n",
    "\n",
    "data = [\"23\", \"59\", \"59\"]\n",
    "print(\":\".join(data))\n",
    "# 23:59:59"
   ]
  },
  {
   "attachments": {},
   "cell_type": "markdown",
   "metadata": {},
   "source": [
    "### itertools ###\n",
    "파이썬에서 반복되는 형태의 데이터를 처리하는 기능을 제공하는 라이브러리, 순열과 조합 라이브러리를 제공<br>\n",
    "반복되는 데이터를 처리하는 기능을 포함하고 있는 라이브러리 <br>\n",
    "permutations (순열)<br>\n",
    "combinations (조합)<br>\n",
    "product (중복을 허용하는 순열)<br>\n",
    "combinations_with_replacement (중복을 허용하는 모든 조합)<br>\n",
    "순열 조합 모두 클래스이므로 객체 초기화 이후 리스트 자료형으로 변환하여 사용한다."
   ]
  },
  {
   "cell_type": "code",
   "execution_count": null,
   "metadata": {},
   "outputs": [],
   "source": [
    "from itertools import permutations, combinations, product, combinations_with_replacement\n",
    "\n",
    "data = ['a', 'b', 'c'] # 데이터 준비\n",
    "\n",
    "# 리스트에서 3개를 뽑아 나열하는 모든 경우를 출력\n",
    "result = list(permutations(data,3)) # 모든 순열 구하기\n",
    "\n",
    "print(result)\n",
    "\n",
    "result = list(combinations(data,2)) # 2개를 뽑는 모든 조합 구하기\n",
    "\n",
    "print(result)\n",
    "\n",
    "result = list(product(data,repeat = 2)) # 2개를 뽑는 모든 순열 구하기 (중복 허용)\n",
    "\n",
    "print (result)\n",
    "\n",
    "result = list(combinations_with_replacement(data,2)) # 2개를 뽑는 모든 조합 구하기 (중복 허용)\n",
    "\n",
    "print (result)\n",
    "\n",
    "# [('a', 'b', 'c'), ('a', 'c', 'b'), ('b', 'a', 'c'), ('b', 'c', 'a'), ('c', 'a', 'b'), ('c', 'b', 'a')]\n",
    "# [('a', 'b'), ('a', 'c'), ('b', 'c')]\n",
    "# [('a', 'a'), ('a', 'b'), ('a', 'c'), ('b', 'a'), ('b', 'b'), ('b', 'c'), ('c', 'a'), ('c', 'b'), ('c', 'c')]\n",
    "# [('a', 'a'), ('a', 'b'), ('a', 'c'), ('b', 'b'), ('b', 'c'), ('c', 'c')]"
   ]
  },
  {
   "attachments": {},
   "cell_type": "markdown",
   "metadata": {},
   "source": [
    "### heapq (Min heap) ###\n",
    "힙 기능을 위해 heapq 라이브러리를 제공<br>\n",
    "다익스트라 최단 경로 알고리즘등에서 우선운위 큐 기능을 구현하고자 할 때 사용<br>\n",
    "PriorityQueue 라이브러리를 사용할 수 있지만 코딩테스트 환경에서는 heapq가 더빠르게 동작함으로 heapq를 사용하자<br>\n",
    "최소 힙(min heap)으로 구성되어 있으므로 넣었다 빼는 것만으로 O(NlogN)에 오름차순 정렬이 완료된다.<br>\n",
    "보통 최소 힙 자료구조의 최상단 원소는 항상 '가장 작은'원소이기 때문이다<br>\n",
    "heapq.heappush() 삽입<br>\n",
    "heapq.heappop() 꺼냄"
   ]
  },
  {
   "cell_type": "code",
   "execution_count": null,
   "metadata": {},
   "outputs": [],
   "source": [
    "# 힙정렬(heap sort)을 heapq로 구현하는 예제\n",
    "\n",
    "import heapq\n",
    "\n",
    "def heapsort(iterable):\n",
    "      h = []\n",
    "      result = []\n",
    "      # 모든 원소를 차례대로 힙에 삽입\n",
    "      for value in iterable:\n",
    "              heapq.heappush(h, value)\n",
    "      # 힙에 삽입된 모든 원소를 차례대로 꺼내어 담기\n",
    "      for i in range(len(h)):\n",
    "              result.append(heapq.heappop(h))\n",
    "      return result\n",
    "\n",
    "result = heapsort([1,3,5,7,9,2,4,6,8,0])\n",
    "print(result)\n",
    "# [0, 1, 2, 3, 4, 5, 6, 7, 8, 9]\n",
    "\n",
    "# 부호를 사용하여 최대 힙(max heap) 구현\n",
    "import heapq\n",
    "\n",
    "def heapsort(iterable):\n",
    "      h = []\n",
    "      result = []\n",
    "      # 모든 원소를 차례대로 힙에 삽입\n",
    "      for value in iterable:\n",
    "              heapq.heappush(h, -value)\n",
    "      # 힙에 삽입된 모든 원소를 차례대로 꺼내어 담기\n",
    "      for i in range(len(h)):\n",
    "              result.append(-heapq.heappop(h))\n",
    "      return result\n",
    "\n",
    "result = heapsort([1,3,5,7,9,2,4,6,8,0])\n",
    "print(result)\n",
    "#[9, 8, 7, 6, 5, 4, 3, 2, 1, 0]"
   ]
  },
  {
   "attachments": {},
   "cell_type": "markdown",
   "metadata": {},
   "source": [
    "### bisect ###\n",
    "이진탐색을 쉽게 구현할 수 있도록 하는 라이브러리<br>\n",
    "'정렬된 배열'에서 특정한 원소를 찾아야 할 때 매우 효과적으로 사용<br>\n",
    "bisect_left(a,x)<br>\n",
    "정렬된 순서를 유지하면서 리스트 a에 데이터 x를 삽입할 가장 왼쪽 인덱스를 찾는 메서드<br>\n",
    "bisect_right(a,x)<br>\n",
    "정렬된 순서를 유지하면서 리스트 a에 데이터 x를 삽입할 가장 오른쪽 인덱스를 찾는 메서드<br>\n",
    "'정렬된 리스트'에서 '값이 특정 범위에 속하는 원소의 개수'를 구하고자 할 때 사용"
   ]
  },
  {
   "cell_type": "code",
   "execution_count": null,
   "metadata": {},
   "outputs": [],
   "source": [
    "from bisect import bisect_left, bisect_right\n",
    "\n",
    "a = [1, 2, 4, 4, 8]\n",
    "x = 4\n",
    "\n",
    "print(bisect_left(a, x))  # 2\n",
    "print(bisect_right(a, x)) # 4\n",
    "\n",
    "#'정렬된 리스트'에서 '값이 특정 범위에 속하는 원소의 개수'를 구하고자 할 때 사용\n",
    "\n",
    "def count_by_range(a, left_value, right_value):\n",
    "        right_index = bisect_right(a, right_value)\n",
    "        left_index = bisect_left(a, left_value)\n",
    "        return right_index - left_index\n",
    "\n",
    "# 리스트 선언\n",
    "a = [1, 2, 3, 3, 3, 3, 4, 4, 8, 9]\n",
    "\n",
    "# 값이 4인 데이터 개수 출력\n",
    "print(count_by_range(a, 4, 4))       # 2\n",
    "\n",
    "# 값이 [-1, 3] 범위에 있는 데이터 개수 출력\n",
    "print(count_by_range(a, -1, 3))      # 6"
   ]
  },
  {
   "attachments": {},
   "cell_type": "markdown",
   "metadata": {},
   "source": [
    "### collections ###\n",
    "유용한 자료구조를 제공하는 표준 라이브러리<br>\n",
    "덱(deque), 카운터(Counter) 등의 유용한 자료구조를 포함하고 있는 라이브러리"
   ]
  },
  {
   "attachments": {},
   "cell_type": "markdown",
   "metadata": {},
   "source": [
    "collections.deque\n",
    "\n",
    "스택, 큐를 구현할 때 사용하는 라이브러리<br>\n",
    "\n",
    "가장 앞 원소추가, 가장 앞 원소제거에서 O(1)의 시간복잡도를 가진다<br>\n",
    "\n",
    "인덱싱, 슬라이싱 등은 사용할 수 없다."
   ]
  },
  {
   "cell_type": "code",
   "execution_count": null,
   "metadata": {},
   "outputs": [],
   "source": [
    "from collections import deque\n",
    "\n",
    "data = deque([2,3,4])\n",
    "data.appendleft(1)\n",
    "data.append(5)\n",
    "\n",
    "data.pop()\n",
    "data.popleft()\n",
    "\n",
    "print(data)  # deque([2, 3, 4])\n",
    "print(list(data)) # [2, 3, 4]"
   ]
  },
  {
   "attachments": {},
   "cell_type": "markdown",
   "metadata": {},
   "source": [
    "collections.Counter\n",
    "\n",
    "등장 횟수를 세는 기능을 제공<br>\n",
    "\n",
    "리스트와 같은 iterable 객체가 주어졌을 때, 해당 객체 내부의 원소가 몇 번씩 등장했는지를 알려준다.<br>\n",
    "\n",
    "원소별 등장 횟수를 세는 기능이 필요할 때 짧은 코드로 이를 구현할 수 있다."
   ]
  },
  {
   "cell_type": "code",
   "execution_count": null,
   "metadata": {},
   "outputs": [],
   "source": [
    "from collections import Counter\n",
    "\n",
    "counter = Counter(['red', 'blue', 'green', 'blue', 'blue'])\n",
    "\n",
    "print(counter['blue']) # 'blue'가 등장한 횟수 출력\n",
    "print(dict(counter)) # 사전 자료형으로 변환 list,set도 가능하고 두개가 같은 값을 가진다\n",
    "\n",
    "# 3\n",
    "# {'red': 1, 'blue': 3, 'green': 1}"
   ]
  },
  {
   "attachments": {},
   "cell_type": "markdown",
   "metadata": {},
   "source": [
    "### math ###\n",
    "수학적인 기능을 포함하고 있는 라이브러리<br>\n",
    "팩토리얼, 제곱급, 최대공약수(GCD), 삼각함수, 파이(pi)"
   ]
  },
  {
   "cell_type": "code",
   "execution_count": null,
   "metadata": {},
   "outputs": [],
   "source": [
    "import math\n",
    "\n",
    "print(math.factorial(5)) # 5 팩토리얼 출력\n",
    "\n",
    "print(math.sqrt(7)) # 7의 제곱근 출력\n",
    "\n",
    "print(math.gcd(21,14)) # 21과 14의 최대 공약수 , 7\n",
    "\n",
    "print(math.pi) # 파이 출력\n",
    "\n",
    "print(math.e) # 자연상수 출력"
   ]
  }
 ],
 "metadata": {
  "kernelspec": {
   "display_name": "Python 3",
   "language": "python",
   "name": "python3"
  },
  "language_info": {
   "codemirror_mode": {
    "name": "ipython",
    "version": 3
   },
   "file_extension": ".py",
   "mimetype": "text/x-python",
   "name": "python",
   "nbconvert_exporter": "python",
   "pygments_lexer": "ipython3",
   "version": "3.9.6"
  },
  "orig_nbformat": 4,
  "vscode": {
   "interpreter": {
    "hash": "31f2aee4e71d21fbe5cf8b01ff0e069b9275f58929596ceb00d14d90e3e16cd6"
   }
  }
 },
 "nbformat": 4,
 "nbformat_minor": 2
}
